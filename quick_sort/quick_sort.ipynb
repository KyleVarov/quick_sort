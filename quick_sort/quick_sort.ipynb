{
  "nbformat": 4,
  "nbformat_minor": 0,
  "metadata": {
    "colab": {
      "name": "quick_sort.ipynb",
      "provenance": []
    },
    "kernelspec": {
      "name": "python3",
      "display_name": "Python 3"
    }
  },
  "cells": [
    {
      "cell_type": "code",
      "metadata": {
        "id": "PNvKWZXLqFfQ",
        "colab_type": "code",
        "outputId": "58ff1343-bac0-42d4-abaf-d3a26dd1fe6b",
        "colab": {
          "base_uri": "https://localhost:8080/",
          "height": 34
        }
      },
      "source": [
        "import random\n",
        "\n",
        "def quick_sort(array, start, end):\n",
        "    p = start\n",
        "    r = end\n",
        "    q = p\n",
        "    for i in range(p, r):\n",
        "      if array[i] <= array[r] :\n",
        "        temp = array[q]\n",
        "        array[q] = array[i]\n",
        "        array[i] = temp\n",
        "        q += 1\n",
        "\n",
        "    if p < r:\n",
        "      temp = array[q]\n",
        "      array[q] = array[r]\n",
        "      array[r] = temp\n",
        "      \n",
        "      quick_sort(array, p, q-1)\n",
        "      quick_sort(array, q+1, r)\n",
        "       \n",
        "\n",
        "\"\"\"rand_int_array = []\n",
        "for i in range(10000):\n",
        "  rand_int_array.append(random.randint(0,100))\"\"\"\n",
        "\n",
        "array = [60,12,9,44,1,20,35,70,88,18]\n",
        "\n",
        "quick_sort(array, 0 , len(array)-1)\n",
        "print(array)\n",
        "\n",
        "\n"
      ],
      "execution_count": 75,
      "outputs": [
        {
          "output_type": "stream",
          "text": [
            "[1, 9, 12, 18, 20, 35, 44, 60, 70, 88]\n"
          ],
          "name": "stdout"
        }
      ]
    }
  ]
}